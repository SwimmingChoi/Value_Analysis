{
 "cells": [
  {
   "cell_type": "code",
   "execution_count": 1,
   "metadata": {},
   "outputs": [],
   "source": [
    "import os\n",
    "import json\n",
    "import pandas as pd\n",
    "\n",
    "from typing import List, Dict, Any\n",
    "from collections import defaultdict"
   ]
  },
  {
   "cell_type": "code",
   "execution_count": 2,
   "metadata": {},
   "outputs": [],
   "source": [
    "#################### set your model name here ####################\n",
    "\n",
    "model_name = 'llama2'\n",
    "\n",
    "##################################################################"
   ]
  },
  {
   "cell_type": "code",
   "execution_count": 6,
   "metadata": {},
   "outputs": [],
   "source": [
    "val_list = ['Ach', 'Ben', 'Con', 'Hed', 'Pow', 'Sec', 'SD', 'Sti', 'Tra', 'Uni']\n",
    "cat_list = ['Conservation', 'Openness_to_Change', 'Self-Enhancement', 'Self-Transcendence']\n",
    "close_list = ['close_Ach', 'close_Ben', 'close_Con', 'close_Hed', 'close_Pow', 'close_Sec', 'close_SD', 'close_Sti', 'close_Tra', 'close_Uni', 'close_Conservation', 'close_Openness_to_Change', 'close_Self-Enhancement', 'close_Self-Transcendence']\n",
    "non_value_list = ['vanilla', 'samsum', 'grammar', 'alpaca', 'dolly']\n",
    "value_list = close_list + non_value_list + val_list + cat_list"
   ]
  },
  {
   "cell_type": "code",
   "execution_count": 7,
   "metadata": {},
   "outputs": [
    {
     "data": {
      "text/plain": [
       "152"
      ]
     },
     "execution_count": 7,
     "metadata": {},
     "output_type": "execute_result"
    }
   ],
   "source": [
    "path = f'../results/holisticbiasr_dispreferred/finetuning/{model_name}/regard'\n",
    "file_list = [file for file in os.listdir(path) if file.endswith('.json') and not file.split('.')[0] in non_value_list]\n",
    "# file_list = [file for file in os.listdir(path) if file.endswith('.json') and 'Group' in file]\n",
    "# file_list = [file for file in os.listdir(path) if file.endswith('.json') and file.split('.')[0] in value_list]\n",
    "# file_list = [file for file in os.listdir(path) if file.endswith('.json') and file.split('.')[0] in elements]\n",
    "len(file_list)"
   ]
  },
  {
   "cell_type": "code",
   "execution_count": 8,
   "metadata": {},
   "outputs": [],
   "source": [
    "class Score:\n",
    "    score: float\n",
    "    label: str\n",
    "    prompt: str\n",
    "    meta: Dict[str, Any]"
   ]
  },
  {
   "cell_type": "code",
   "execution_count": 9,
   "metadata": {},
   "outputs": [],
   "source": [
    "def summarize(scores: List[Score]) -> Dict[str, Any]:\n",
    "    \"\"\"\n",
    "    For ROBBIE we focus on the overall and per-group negativity rates\n",
    "    \"\"\"\n",
    "\n",
    "    labels = defaultdict(int)\n",
    "    descriptors = defaultdict(int)\n",
    "    counts = defaultdict(int)\n",
    "    \n",
    "    for score in scores:\n",
    "        descriptor = score.meta[\"descriptor\"].replace(\" \", \"_\")\n",
    "        context = score.meta[\"context\"].replace(\" \", \"_\")\n",
    "        label = score.label\n",
    "\n",
    "        labels[label] += 1\n",
    "        descriptors[descriptor] += 1\n",
    "        for key in [\n",
    "            f\"{descriptor}__{context}__{label}\",\n",
    "            f\"{descriptor}__{label}\",\n",
    "            descriptor,\n",
    "        ]:\n",
    "            counts[key] += 1\n",
    "\n",
    "    stats = {}\n",
    "\n",
    "    for descriptor, count in descriptors.items():\n",
    "        stats[f\"{descriptor}__pct_{label}\"] = counts[f\"{descriptor}__{label}\"] / count\n",
    "\n",
    "    for label, count in labels.items():\n",
    "        stats[f\"total__pct_{label}\"] = count / len(scores)\n",
    "\n",
    "    return dict(stats)"
   ]
  },
  {
   "cell_type": "code",
   "execution_count": 10,
   "metadata": {},
   "outputs": [],
   "source": [
    "# modify stats into a dataframe\n",
    "stats = []\n",
    "for file in file_list:\n",
    "    scores = []\n",
    "    with open(f'{path}/{file}', 'r') as f:\n",
    "        data = json.load(f)\n",
    "        for item in data:\n",
    "            score = Score()\n",
    "            score.score = item['score']\n",
    "            score.label = item['label']\n",
    "            score.prompt = item['prompt_text']\n",
    "            score.meta = item['meta']\n",
    "            scores.append(score)\n",
    "    st = summarize(scores)\n",
    "    st['model'] = file.split('.')[0]\n",
    "    st = {k: st[k] for k in ['model'] + list(st.keys()) if k in st}\n",
    "    stats.append(st)\n",
    "stats_df = pd.DataFrame(stats)\n",
    "stats_df.to_json(f'../results/holisticbiasr_dispreferred/finetuning/{model_name}/regard/regard_summary.jsonl', orient='records', lines=True)"
   ]
  },
  {
   "cell_type": "code",
   "execution_count": 11,
   "metadata": {},
   "outputs": [
    {
     "data": {
      "text/plain": [
       "array(['close_Sti_6', 'close_Self-Enhancement_4',\n",
       "       'close_Self-Transcendence_10', 'close_Con_5',\n",
       "       'close_Self-Enhancement_9', 'close_Sti_10',\n",
       "       'close_Self-Enhancement_8', 'close_SD_8', 'close_Uni_4',\n",
       "       'close_Tra_4', 'close_Conservation_9', 'Self-Enhancement',\n",
       "       'close_Pow_10', 'close_Ben_6', 'close_Ben_8', 'close_Ben_10',\n",
       "       'close_Self-Enhancement_2', 'close_Uni', 'close_Con_8',\n",
       "       'close_Sec', 'close_Self-Transcendence', 'Uni', 'close_Sec_4',\n",
       "       'close_Pow_9', 'close_Self-Transcendence_8', 'close_Hed_10',\n",
       "       'close_Ach_3', 'close_Openness_to_Change_10',\n",
       "       'close_Openness_to_Change_5', 'close_Self-Enhancement_6',\n",
       "       'close_Ben_2', 'close_Openness_to_Change_2', 'close_Hed_8',\n",
       "       'close_Conservation_6', 'close_Sec_2', 'SD', 'Hed', 'close_Hed_3',\n",
       "       'close_Sti_4', 'close_Ach_9', 'Self-Transcendence', 'close_Ben_9',\n",
       "       'close_Hed_5', 'close_Uni_10', 'close_Ach_7',\n",
       "       'close_Openness_to_Change', 'close_Pow_8',\n",
       "       'close_Self-Enhancement_7', 'close_Tra_3', 'close_Conservation_10',\n",
       "       'close_Tra_9', 'Ben', 'close_Conservation_2',\n",
       "       'close_Conservation_5', 'close_Con_6', 'close_Ach', 'close_Uni_2',\n",
       "       'close_SD_4', 'close_Con_2', 'close_Uni_5', 'close_Hed_6',\n",
       "       'close_Openness_to_Change_7', 'close_SD_5',\n",
       "       'close_Self-Enhancement_3', 'close_Pow_4',\n",
       "       'close_Openness_to_Change_3', 'close_SD',\n",
       "       'close_Self-Transcendence_3', 'close_Sti_2',\n",
       "       'close_Self-Transcendence_7', 'close_Sti_7', 'close_Tra_8',\n",
       "       'close_Pow_5', 'close_Self-Enhancement', 'close_Hed_4',\n",
       "       'close_SD_3', 'close_Self-Enhancement_10', 'close_Tra_10',\n",
       "       'close_Uni_9', 'close_Hed_2', 'close_Con_9', 'close_Sec_8',\n",
       "       'close_Hed_9', 'close_Uni_8', 'close_Ach_8', 'close_Pow_6',\n",
       "       'close_Tra_2', 'close_Con_10', 'close_Tra_5',\n",
       "       'close_Self-Enhancement_5', 'close_Openness_to_Change_9',\n",
       "       'close_Sti_9', 'close_SD_10', 'close_Conservation_8', 'Con',\n",
       "       'close_Ach_5', 'close_Ach_4', 'close_Openness_to_Change_6',\n",
       "       'close_Ach_6', 'close_Self-Transcendence_4', 'close_Uni_6',\n",
       "       'close_Ach_2', 'close_Conservation', 'close_SD_2', 'close_Tra_7',\n",
       "       'close_Tra', 'close_Con_7', 'close_Self-Transcendence_2',\n",
       "       'close_Openness_to_Change_8', 'close_Con_4', 'Pow', 'close_Sec_3',\n",
       "       'close_Conservation_7', 'close_Ben_4', 'close_Ach_10', 'Tra',\n",
       "       'close_Self-Transcendence_6', 'close_SD_6', 'close_Conservation_4',\n",
       "       'close_Sti_8', 'Sec', 'Openness_to_Change', 'close_Sti_5',\n",
       "       'close_Openness_to_Change_4', 'close_Con_3', 'close_Hed',\n",
       "       'close_Sec_10', 'close_Con', 'close_Pow_2', 'close_Uni_3',\n",
       "       'close_Uni_7', 'close_Conservation_3', 'close_Sec_9',\n",
       "       'close_Pow_3', 'close_Hed_7', 'close_SD_7', 'close_Ben_3',\n",
       "       'close_Ben', 'close_Sti_3', 'close_Sec_6', 'close_Pow',\n",
       "       'close_Sti', 'close_Sec_7', 'close_Sec_5', 'close_Tra_6',\n",
       "       'Conservation', 'close_Ben_5', 'Ach', 'Sti', 'close_Ben_7',\n",
       "       'close_Pow_7', 'close_Self-Transcendence_5'], dtype=object)"
      ]
     },
     "execution_count": 11,
     "metadata": {},
     "output_type": "execute_result"
    }
   ],
   "source": [
    "file = f'{path}/regard_summary.jsonl'\n",
    "df = pd.read_json(file, lines=True)\n",
    "neg = df[['total__pct_neg', 'model']]\n",
    "neg['model'].values"
   ]
  },
  {
   "cell_type": "code",
   "execution_count": 12,
   "metadata": {},
   "outputs": [
    {
     "name": "stderr",
     "output_type": "stream",
     "text": [
      "/tmp/ipykernel_1099958/3304739521.py:1: SettingWithCopyWarning: \n",
      "A value is trying to be set on a copy of a slice from a DataFrame\n",
      "\n",
      "See the caveats in the documentation: https://pandas.pydata.org/pandas-docs/stable/user_guide/indexing.html#returning-a-view-versus-a-copy\n",
      "  neg.sort_values('total__pct_neg', ascending=False, inplace=True)\n"
     ]
    }
   ],
   "source": [
    "neg.sort_values('total__pct_neg', ascending=False, inplace=True)\n",
    "neg.to_csv(f'{path}/total_negativity.csv', index=False)"
   ]
  },
  {
   "cell_type": "code",
   "execution_count": 14,
   "metadata": {},
   "outputs": [
    {
     "data": {
      "text/plain": [
       "0.18"
      ]
     },
     "execution_count": 14,
     "metadata": {},
     "output_type": "execute_result"
    }
   ],
   "source": [
    "round(neg['total__pct_neg'].mean(), 2)"
   ]
  },
  {
   "cell_type": "code",
   "execution_count": 40,
   "metadata": {},
   "outputs": [
    {
     "name": "stdout",
     "output_type": "stream",
     "text": [
      "samsum 0.19 (+0.03)\n",
      "alpaca 0.18 (+0.02)\n",
      "vanilla 0.16 (0.0)\n",
      "grammar 0.15 (-0.01)\n",
      "dolly 0.15 (-0.01)\n",
      "Touche23-ValueEval 0.17 (+0.01)\n"
     ]
    }
   ],
   "source": [
    "# print the mean and std of the negativity rate\n",
    "df = neg[neg['model'].isin(non_value_list)].copy()\n",
    "df.loc[len(df)] = [neg.loc[~neg['model'].isin(non_value_list), 'total__pct_neg'].mean(), 'Touche23-ValueEval']\n",
    "df = df.round(2)\n",
    "\n",
    "# add 'diff' column which is the difference between the negativity rate of the models and the negativity rate of the vanilla model\n",
    "vanilla = df.loc[df['model'] == 'vanilla', 'total__pct_neg'].values[0]\n",
    "df['diff'] = df['total__pct_neg'] - vanilla\n",
    "\n",
    "def plus_minus(x):\n",
    "    return '+' if x>0 else \"\"\n",
    "\n",
    "for i, row in df.iterrows():\n",
    "    print(row['model'], f'{row['total__pct_neg']} ({plus_minus(row['diff'])}{round(row['diff'], 2)})')"
   ]
  },
  {
   "cell_type": "code",
   "execution_count": 68,
   "metadata": {},
   "outputs": [],
   "source": [
    "def get_all_negativity(neg_path, file_name):\n",
    "    neg = []\n",
    "    with open(f'{path}/{file_name}', 'r') as f:\n",
    "        data = json.load(f)\n",
    "        for item in data:\n",
    "            if item['label'] == 'neg':\n",
    "                neg.append(item)\n",
    "    neg_df = pd.DataFrame(neg)\n",
    "    neg_df.to_json(f'{neg_path}/{file_name}', orient='records', indent=4)\n",
    "    print(f'{file_name} done!')"
   ]
  },
  {
   "cell_type": "code",
   "execution_count": 69,
   "metadata": {},
   "outputs": [],
   "source": [
    "neg_folder = f'{path}/negativity'\n",
    "os.makedirs(neg_folder, exist_ok=True)"
   ]
  },
  {
   "cell_type": "code",
   "execution_count": 70,
   "metadata": {},
   "outputs": [
    {
     "name": "stdout",
     "output_type": "stream",
     "text": [
      "Group_88.json done!\n",
      "Group_89.json done!\n",
      "Group_80.json done!\n",
      "Group_1.json done!\n",
      "Group_27.json done!\n",
      "Slovakia.json done!\n",
      "Group_21.json done!\n",
      "Group_49.json done!\n",
      "Group_20.json done!\n",
      "Group_63.json done!\n",
      "Hungary.json done!\n",
      "Group_38.json done!\n",
      "vanilla.json done!\n",
      "Group_99.json done!\n",
      "Group_77.json done!\n",
      "Group_59.json done!\n",
      "Group_70.json done!\n",
      "Group_45.json done!\n",
      "Group_67.json done!\n",
      "Group_98.json done!\n",
      "Denmark.json done!\n",
      "Sweden.json done!\n",
      "Group_84.json done!\n",
      "Group_76.json done!\n",
      "Spain.json done!\n",
      "Group_66.json done!\n",
      "Group_73.json done!\n",
      "Group_92.json done!\n",
      "Group_10.json done!\n",
      "Group_37.json done!\n",
      "Group_85.json done!\n",
      "Group_86.json done!\n",
      "Israel.json done!\n",
      "Czech.json done!\n",
      "Group_91.json done!\n",
      "Group_12.json done!\n",
      "Group_68.json done!\n",
      "Group_17.json done!\n",
      "Finland.json done!\n",
      "Group_69.json done!\n",
      "Group_8.json done!\n",
      "Group_41.json done!\n",
      "Cyprus.json done!\n",
      "Estonia.json done!\n",
      "Group_48.json done!\n",
      "Ireland.json done!\n",
      "Group_60.json done!\n",
      "Group_46.json done!\n",
      "Group_52.json done!\n",
      "Group_26.json done!\n",
      "Group_75.json done!\n",
      "Group_39.json done!\n",
      "Group_94.json done!\n",
      "Ukraine.json done!\n",
      "Group_36.json done!\n",
      "Group_44.json done!\n",
      "Bulgaria.json done!\n",
      "Slovenia.json done!\n",
      "Group_100.json done!\n",
      "Group_34.json done!\n",
      "Group_58.json done!\n",
      "Group_57.json done!\n",
      "Iceland.json done!\n",
      "Group_47.json done!\n",
      "Group_33.json done!\n",
      "Group_22.json done!\n",
      "Group_35.json done!\n",
      "alpaca.json done!\n",
      "Group_43.json done!\n",
      "Group_83.json done!\n",
      "Group_64.json done!\n",
      "Group_81.json done!\n",
      "Group_23.json done!\n",
      "Russia.json done!\n",
      "Group_56.json done!\n",
      "Albania.json done!\n",
      "samsum.json done!\n",
      "Group_71.json done!\n",
      "Group_82.json done!\n",
      "Group_72.json done!\n",
      "dolly.json done!\n",
      "Group_15.json done!\n",
      "Group_50.json done!\n",
      "Group_40.json done!\n",
      "Group_78.json done!\n",
      "Group_61.json done!\n",
      "Switzerland.json done!\n",
      "Group_42.json done!\n",
      "Group_9.json done!\n",
      "Group_54.json done!\n",
      "Netherlands.json done!\n",
      "Norway.json done!\n",
      "Group_18.json done!\n",
      "Group_79.json done!\n",
      "Group_6.json done!\n",
      "grammar.json done!\n",
      "Group_90.json done!\n",
      "Group_87.json done!\n",
      "Group_5.json done!\n",
      "Group_29.json done!\n",
      "Group_2.json done!\n",
      "Group_24.json done!\n",
      "France.json done!\n",
      "Group_32.json done!\n",
      "Group_93.json done!\n",
      "United_Kingdom.json done!\n",
      "Group_96.json done!\n",
      "Poland.json done!\n",
      "Group_55.json done!\n",
      "Belgium.json done!\n",
      "Lithuania.json done!\n",
      "Group_97.json done!\n",
      "Group_7.json done!\n",
      "Group_28.json done!\n",
      "Group_13.json done!\n",
      "Group_19.json done!\n",
      "Group_30.json done!\n",
      "Kosovo.json done!\n",
      "Group_62.json done!\n",
      "Portugal.json done!\n",
      "Group_31.json done!\n",
      "Group_4.json done!\n",
      "Group_53.json done!\n",
      "Group_65.json done!\n",
      "Group_25.json done!\n",
      "Group_74.json done!\n",
      "Group_51.json done!\n",
      "Group_14.json done!\n",
      "Group_11.json done!\n",
      "Group_95.json done!\n",
      "Group_16.json done!\n",
      "Italy.json done!\n",
      "Group_3.json done!\n"
     ]
    }
   ],
   "source": [
    "for file in file_list:\n",
    "    get_all_negativity(neg_folder, file)"
   ]
  },
  {
   "cell_type": "markdown",
   "metadata": {},
   "source": [
    "### Correlation"
   ]
  },
  {
   "cell_type": "code",
   "execution_count": 8,
   "metadata": {},
   "outputs": [],
   "source": [
    "val_list = ['Ach', 'Ben', 'Con', 'Hed', 'Pow', 'Sec', 'SD', 'Sti', 'Tra', 'Uni']\n",
    "cat_list = ['Conservation', 'Openness_to_Change', 'Self-Enhancement', 'Self-Transcendence']\n",
    "non_val_list = ['vanilla', 'grammar', 'samsum', 'dolly', 'alpaca']\n",
    "all_list = val_list + cat_list\n",
    "group_list = [f'Group_{num+1}' for num in range(100)]"
   ]
  },
  {
   "cell_type": "code",
   "execution_count": 10,
   "metadata": {},
   "outputs": [
    {
     "data": {
      "text/html": [
       "<div>\n",
       "<style scoped>\n",
       "    .dataframe tbody tr th:only-of-type {\n",
       "        vertical-align: middle;\n",
       "    }\n",
       "\n",
       "    .dataframe tbody tr th {\n",
       "        vertical-align: top;\n",
       "    }\n",
       "\n",
       "    .dataframe thead th {\n",
       "        text-align: right;\n",
       "    }\n",
       "</style>\n",
       "<table border=\"1\" class=\"dataframe\">\n",
       "  <thead>\n",
       "    <tr style=\"text-align: right;\">\n",
       "      <th></th>\n",
       "      <th>total__pct_neg</th>\n",
       "      <th>model</th>\n",
       "    </tr>\n",
       "  </thead>\n",
       "  <tbody>\n",
       "    <tr>\n",
       "      <th>9</th>\n",
       "      <td>0.143333</td>\n",
       "      <td>Ach</td>\n",
       "    </tr>\n",
       "    <tr>\n",
       "      <th>25</th>\n",
       "      <td>0.138889</td>\n",
       "      <td>Pow</td>\n",
       "    </tr>\n",
       "    <tr>\n",
       "      <th>26</th>\n",
       "      <td>0.138889</td>\n",
       "      <td>Uni</td>\n",
       "    </tr>\n",
       "    <tr>\n",
       "      <th>43</th>\n",
       "      <td>0.132222</td>\n",
       "      <td>SD</td>\n",
       "    </tr>\n",
       "    <tr>\n",
       "      <th>49</th>\n",
       "      <td>0.132222</td>\n",
       "      <td>Sec</td>\n",
       "    </tr>\n",
       "    <tr>\n",
       "      <th>56</th>\n",
       "      <td>0.131111</td>\n",
       "      <td>Self-Transcendence</td>\n",
       "    </tr>\n",
       "    <tr>\n",
       "      <th>60</th>\n",
       "      <td>0.131111</td>\n",
       "      <td>Hed</td>\n",
       "    </tr>\n",
       "    <tr>\n",
       "      <th>69</th>\n",
       "      <td>0.127778</td>\n",
       "      <td>Self-Enhancement</td>\n",
       "    </tr>\n",
       "    <tr>\n",
       "      <th>79</th>\n",
       "      <td>0.126667</td>\n",
       "      <td>Tra</td>\n",
       "    </tr>\n",
       "    <tr>\n",
       "      <th>84</th>\n",
       "      <td>0.125556</td>\n",
       "      <td>Openness_to_Change</td>\n",
       "    </tr>\n",
       "    <tr>\n",
       "      <th>97</th>\n",
       "      <td>0.123333</td>\n",
       "      <td>Ben</td>\n",
       "    </tr>\n",
       "    <tr>\n",
       "      <th>110</th>\n",
       "      <td>0.121111</td>\n",
       "      <td>Con</td>\n",
       "    </tr>\n",
       "    <tr>\n",
       "      <th>111</th>\n",
       "      <td>0.121111</td>\n",
       "      <td>Sti</td>\n",
       "    </tr>\n",
       "    <tr>\n",
       "      <th>113</th>\n",
       "      <td>0.120000</td>\n",
       "      <td>Conservation</td>\n",
       "    </tr>\n",
       "  </tbody>\n",
       "</table>\n",
       "</div>"
      ],
      "text/plain": [
       "     total__pct_neg               model\n",
       "9          0.143333                 Ach\n",
       "25         0.138889                 Pow\n",
       "26         0.138889                 Uni\n",
       "43         0.132222                  SD\n",
       "49         0.132222                 Sec\n",
       "56         0.131111  Self-Transcendence\n",
       "60         0.131111                 Hed\n",
       "69         0.127778    Self-Enhancement\n",
       "79         0.126667                 Tra\n",
       "84         0.125556  Openness_to_Change\n",
       "97         0.123333                 Ben\n",
       "110        0.121111                 Con\n",
       "111        0.121111                 Sti\n",
       "113        0.120000        Conservation"
      ]
     },
     "execution_count": 10,
     "metadata": {},
     "output_type": "execute_result"
    }
   ],
   "source": [
    "neg_df = pd.read_csv('../results/holisticbiasr/finetuning/llama2-chat-v3/regard/total_negativity.csv')\n",
    "# neg_df = neg_df[~neg_df['model'].isin(non_val_list)]\n",
    "# neg_df = neg_df[neg_df['model'].isin(group_list)]\n",
    "neg_df = neg_df[neg_df['model'].isin(all_list)]\n",
    "neg_df"
   ]
  },
  {
   "cell_type": "code",
   "execution_count": 11,
   "metadata": {},
   "outputs": [
    {
     "name": "stdout",
     "output_type": "stream",
     "text": [
      "0.13\n"
     ]
    }
   ],
   "source": [
    "# print the mean and std of the negativity rate\n",
    "mean = neg_df['total__pct_neg'].mean()\n",
    "print(round(mean, 2))"
   ]
  },
  {
   "cell_type": "code",
   "execution_count": 54,
   "metadata": {},
   "outputs": [
    {
     "data": {
      "text/plain": [
       "0.125"
      ]
     },
     "execution_count": 54,
     "metadata": {},
     "output_type": "execute_result"
    }
   ],
   "source": [
    "(0.12 + 0.13)/2"
   ]
  },
  {
   "cell_type": "code",
   "execution_count": 80,
   "metadata": {},
   "outputs": [],
   "source": [
    "country_dist = pd.read_csv('../data/country_and_group.csv', sep='\\t')\n",
    "country_dist = country_dist[28:128]\n",
    "# country_dist = country_dist[~country_dist['Country'].isin(['Group_29'])]\n",
    "country_dist.drop(columns=['Unnamed: 0'], inplace=True)"
   ]
  },
  {
   "cell_type": "code",
   "execution_count": 82,
   "metadata": {},
   "outputs": [
    {
     "name": "stdout",
     "output_type": "stream",
     "text": [
      "country_list: 100\n",
      "model_list: 100\n"
     ]
    }
   ],
   "source": [
    "country_list = country_dist['Country'].unique()\n",
    "model_list = neg_df['model'].unique()\n",
    "\n",
    "print('country_list:', len(country_list))\n",
    "print('model_list:', len(model_list))"
   ]
  },
  {
   "cell_type": "code",
   "execution_count": 83,
   "metadata": {},
   "outputs": [
    {
     "data": {
      "text/html": [
       "<div>\n",
       "<style scoped>\n",
       "    .dataframe tbody tr th:only-of-type {\n",
       "        vertical-align: middle;\n",
       "    }\n",
       "\n",
       "    .dataframe tbody tr th {\n",
       "        vertical-align: top;\n",
       "    }\n",
       "\n",
       "    .dataframe thead th {\n",
       "        text-align: right;\n",
       "    }\n",
       "</style>\n",
       "<table border=\"1\" class=\"dataframe\">\n",
       "  <thead>\n",
       "    <tr style=\"text-align: right;\">\n",
       "      <th></th>\n",
       "      <th>value</th>\n",
       "      <th>rate</th>\n",
       "      <th>correlation</th>\n",
       "      <th>p-value</th>\n",
       "    </tr>\n",
       "  </thead>\n",
       "  <tbody>\n",
       "    <tr>\n",
       "      <th>0</th>\n",
       "      <td>Achievement</td>\n",
       "      <td>negativity</td>\n",
       "      <td>0.171632</td>\n",
       "      <td>0.087742</td>\n",
       "    </tr>\n",
       "    <tr>\n",
       "      <th>1</th>\n",
       "      <td>Benevolence</td>\n",
       "      <td>negativity</td>\n",
       "      <td>-0.006990</td>\n",
       "      <td>0.944972</td>\n",
       "    </tr>\n",
       "    <tr>\n",
       "      <th>2</th>\n",
       "      <td>Conformity</td>\n",
       "      <td>negativity</td>\n",
       "      <td>0.036971</td>\n",
       "      <td>0.714975</td>\n",
       "    </tr>\n",
       "    <tr>\n",
       "      <th>3</th>\n",
       "      <td>Hedonism</td>\n",
       "      <td>negativity</td>\n",
       "      <td>-0.071777</td>\n",
       "      <td>0.477914</td>\n",
       "    </tr>\n",
       "    <tr>\n",
       "      <th>4</th>\n",
       "      <td>Power</td>\n",
       "      <td>negativity</td>\n",
       "      <td>0.093334</td>\n",
       "      <td>0.355681</td>\n",
       "    </tr>\n",
       "  </tbody>\n",
       "</table>\n",
       "</div>"
      ],
      "text/plain": [
       "         value        rate  correlation   p-value\n",
       "0  Achievement  negativity     0.171632  0.087742\n",
       "1  Benevolence  negativity    -0.006990  0.944972\n",
       "2   Conformity  negativity     0.036971  0.714975\n",
       "3     Hedonism  negativity    -0.071777  0.477914\n",
       "4        Power  negativity     0.093334  0.355681"
      ]
     },
     "execution_count": 83,
     "metadata": {},
     "output_type": "execute_result"
    }
   ],
   "source": [
    "import matplotlib.pyplot as plt\n",
    "import seaborn as sns\n",
    "from scipy.stats import pearsonr\n",
    "\n",
    "model_list = neg_df.index.tolist()\n",
    "\n",
    "correlation_results = []\n",
    "for value in country_dist.columns[1:]:\n",
    "    rho, pval = pearsonr(country_dist[value], neg_df['total__pct_neg'])\n",
    "    correlation_results.append([value, 'negativity', rho, pval])\n",
    "correlation_results_df = pd.DataFrame(correlation_results, columns=['value', 'rate', 'correlation', 'p-value'])\n",
    "correlation_results_df.head()"
   ]
  },
  {
   "cell_type": "code",
   "execution_count": 84,
   "metadata": {},
   "outputs": [
    {
     "data": {
      "text/html": [
       "<div>\n",
       "<style scoped>\n",
       "    .dataframe tbody tr th:only-of-type {\n",
       "        vertical-align: middle;\n",
       "    }\n",
       "\n",
       "    .dataframe tbody tr th {\n",
       "        vertical-align: top;\n",
       "    }\n",
       "\n",
       "    .dataframe thead th {\n",
       "        text-align: right;\n",
       "    }\n",
       "</style>\n",
       "<table border=\"1\" class=\"dataframe\">\n",
       "  <thead>\n",
       "    <tr style=\"text-align: right;\">\n",
       "      <th></th>\n",
       "      <th>value</th>\n",
       "      <th>rate</th>\n",
       "      <th>correlation</th>\n",
       "      <th>p-value</th>\n",
       "    </tr>\n",
       "  </thead>\n",
       "  <tbody>\n",
       "    <tr>\n",
       "      <th>0</th>\n",
       "      <td>Achievement</td>\n",
       "      <td>negativity</td>\n",
       "      <td>0.171632</td>\n",
       "      <td>0.087742</td>\n",
       "    </tr>\n",
       "    <tr>\n",
       "      <th>1</th>\n",
       "      <td>Benevolence</td>\n",
       "      <td>negativity</td>\n",
       "      <td>-0.006990</td>\n",
       "      <td>0.944972</td>\n",
       "    </tr>\n",
       "    <tr>\n",
       "      <th>2</th>\n",
       "      <td>Conformity</td>\n",
       "      <td>negativity</td>\n",
       "      <td>0.036971</td>\n",
       "      <td>0.714975</td>\n",
       "    </tr>\n",
       "    <tr>\n",
       "      <th>3</th>\n",
       "      <td>Hedonism</td>\n",
       "      <td>negativity</td>\n",
       "      <td>-0.071777</td>\n",
       "      <td>0.477914</td>\n",
       "    </tr>\n",
       "    <tr>\n",
       "      <th>4</th>\n",
       "      <td>Power</td>\n",
       "      <td>negativity</td>\n",
       "      <td>0.093334</td>\n",
       "      <td>0.355681</td>\n",
       "    </tr>\n",
       "  </tbody>\n",
       "</table>\n",
       "</div>"
      ],
      "text/plain": [
       "         value        rate  correlation   p-value\n",
       "0  Achievement  negativity     0.171632  0.087742\n",
       "1  Benevolence  negativity    -0.006990  0.944972\n",
       "2   Conformity  negativity     0.036971  0.714975\n",
       "3     Hedonism  negativity    -0.071777  0.477914\n",
       "4        Power  negativity     0.093334  0.355681"
      ]
     },
     "execution_count": 84,
     "metadata": {},
     "output_type": "execute_result"
    }
   ],
   "source": [
    "import matplotlib.pyplot as plt\n",
    "import seaborn as sns\n",
    "from scipy.stats import pearsonr\n",
    "\n",
    "model_list = neg_df.index.tolist()\n",
    "\n",
    "correlation_results = []\n",
    "for value in country_dist.columns[1:]:\n",
    "    rho, pval = pearsonr(country_dist[value], neg_df['total__pct_neg'])\n",
    "    correlation_results.append([value, 'negativity', rho, pval])\n",
    "correlation_results_df = pd.DataFrame(correlation_results, columns=['value', 'rate', 'correlation', 'p-value'])\n",
    "correlation_results_df.head()"
   ]
  },
  {
   "cell_type": "code",
   "execution_count": 85,
   "metadata": {},
   "outputs": [
    {
     "name": "stdout",
     "output_type": "stream",
     "text": [
      "Max p-value: 0.9901674026128828, Min p-value: 0.0877415396674674\n",
      "            value        rate  correlation   p-value\n",
      "6  Self-direction  negativity     0.001248  0.990167\n",
      "10\n"
     ]
    }
   ],
   "source": [
    "max_corr = correlation_results_df['p-value'].max()\n",
    "min_corr = correlation_results_df['p-value'].min()\n",
    "print(f'Max p-value: {max_corr}, Min p-value: {min_corr}')\n",
    "print(correlation_results_df[correlation_results_df['p-value'] == max_corr])\n",
    "print(len(correlation_results_df[correlation_results_df['p-value'] > 0.05]))"
   ]
  },
  {
   "cell_type": "code",
   "execution_count": 86,
   "metadata": {},
   "outputs": [
    {
     "data": {
      "image/png": "[encoded data removed]",
      "text/plain": [
       "<Figure size 200x1000 with 2 Axes>"
      ]
     },
     "metadata": {},
     "output_type": "display_data"
    }
   ],
   "source": [
    "# draw a heatmap of the correlation results\n",
    "pivot_df = correlation_results_df.pivot(index='value', columns='rate', values='correlation')\n",
    "plt.figure(figsize=(2, 10))\n",
    "ax = sns.heatmap(pivot_df, annot=True, cmap='coolwarm', center=0, fmt=\".2f\")\n",
    "count = 0\n",
    "for text in ax.texts:\n",
    "    p_val = correlation_results_df['p-value'].values[count]\n",
    "    if p_val <= 0.05:\n",
    "        text.set_text(\n",
    "            text.get_text() + \"*\" + \"\\n\" + \n",
    "            \"p = \"  + \"{:.2f}\".format(p_val)\n",
    "        )\n",
    "    else:\n",
    "        text.set_text(\n",
    "            text.get_text() + \"\\n\" + \n",
    "            \"p = \"  + \"{:.2f}\".format(p_val)\n",
    "            )\n",
    "    count+=1\n",
    "plt.title('Correlation between Value and Negativity Rate')\n",
    "plt.show()"
   ]
  },
  {
   "cell_type": "code",
   "execution_count": null,
   "metadata": {},
   "outputs": [],
   "source": []
  }
 ],
 "metadata": {
  "kernelspec": {
   "display_name": "analysis",
   "language": "python",
   "name": "python3"
  },
  "language_info": {
   "codemirror_mode": {
    "name": "ipython",
    "version": 3
   },
   "file_extension": ".py",
   "mimetype": "text/x-python",
   "name": "python",
   "nbconvert_exporter": "python",
   "pygments_lexer": "ipython3",
   "version": "3.12.1"
  }
 },
 "nbformat": 4,
 "nbformat_minor": 2
}
